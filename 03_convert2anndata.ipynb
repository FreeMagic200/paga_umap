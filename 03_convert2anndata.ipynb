{
  "nbformat": 4,
  "nbformat_minor": 0,
  "metadata": {
    "colab": {
      "provenance": [],
      "authorship_tag": "ABX9TyNh3m69jN4kmcJFpSBbJM/Z",
      "include_colab_link": true
    },
    "kernelspec": {
      "name": "ir",
      "display_name": "R"
    },
    "language_info": {
      "name": "R"
    }
  },
  "cells": [
    {
      "cell_type": "markdown",
      "metadata": {
        "id": "view-in-github",
        "colab_type": "text"
      },
      "source": [
        "<a href=\"https://colab.research.google.com/github/FreeMagic200/paga_umap/blob/main/03_convert2anndata.ipynb\" target=\"_parent\"><img src=\"https://colab.research.google.com/assets/colab-badge.svg\" alt=\"Open In Colab\"/></a>"
      ]
    },
    {
      "cell_type": "markdown",
      "source": [
        "# convert seurat obj to scanpy using scCustomize\n",
        "\n",
        "https://samuel-marsh.github.io/scCustomize/articles/Object_Conversion.html"
      ],
      "metadata": {
        "id": "Djjdlf-fgTwg"
      }
    },
    {
      "cell_type": "markdown",
      "source": [
        "r_sc_visualization"
      ],
      "metadata": {
        "id": "owmdXQYYjLX2"
      }
    },
    {
      "cell_type": "code",
      "source": [
        "library(Seurat)\n",
        "library(scCustomize)\n",
        "library(reticulate)\n",
        "use_condaenv(\"r_sc_visualization\")\n",
        "library(qs)"
      ],
      "metadata": {
        "id": "z7bKYpwpg4jq",
        "colab": {
          "base_uri": "https://localhost:8080/"
        },
        "outputId": "0ba0b851-6173-4943-8e50-4f3115ecfe09"
      },
      "execution_count": null,
      "outputs": [
        {
          "output_type": "stream",
          "name": "stderr",
          "text": [
            "Loading required package: SeuratObject\n",
            "\n",
            "Loading required package: sp\n",
            "\n",
            "\n",
            "Attaching package: ‘SeuratObject’\n",
            "\n",
            "\n",
            "The following objects are masked from ‘package:base’:\n",
            "\n",
            "    intersect, t\n",
            "\n",
            "\n",
            "\u001b[1m\u001b[22mscCustomize v3.0.1\n",
            "If you find the scCustomize useful please cite.\n",
            "See 'samuel-marsh.github.io/scCustomize/articles/FAQ.html' for citation info.\n",
            "\n",
            "qs 0.26.3\n",
            "\n"
          ]
        }
      ]
    },
    {
      "cell_type": "code",
      "source": [
        "seu_obj <- qread(\"/mnt/data/projects/sc_25/06_subclass/11_all_cell_add_meta/11-2_subclass_cluster_annotated_unassign_filtered.qs\")"
      ],
      "metadata": {
        "id": "DVko1TxQg2lw"
      },
      "execution_count": null,
      "outputs": []
    },
    {
      "cell_type": "code",
      "source": [
        "seu_obj <- JoinLayers(seu_obj)\n",
        "gc()"
      ],
      "metadata": {
        "colab": {
          "base_uri": "https://localhost:8080/",
          "height": 129
        },
        "id": "qrzH-x-dqn2r",
        "outputId": "42dfbdd8-3cb8-49c8-e02a-202de7ca53ee"
      },
      "execution_count": null,
      "outputs": [
        {
          "output_type": "display_data",
          "data": {
            "text/html": [
              "<table class=\"dataframe\">\n",
              "<caption>A matrix: 2 × 6 of type dbl</caption>\n",
              "<thead>\n",
              "\t<tr><th></th><th scope=col>used</th><th scope=col>(Mb)</th><th scope=col>gc trigger</th><th scope=col>(Mb)</th><th scope=col>max used</th><th scope=col>(Mb)</th></tr>\n",
              "</thead>\n",
              "<tbody>\n",
              "\t<tr><th scope=row>Ncells</th><td>   3763143</td><td>  201.0</td><td>   7132265</td><td>  381.0</td><td>   5337958</td><td>  285.1</td></tr>\n",
              "\t<tr><th scope=row>Vcells</th><td>2074031116</td><td>15823.7</td><td>4614243549</td><td>35203.9</td><td>4614179676</td><td>35203.4</td></tr>\n",
              "</tbody>\n",
              "</table>\n"
            ],
            "text/markdown": "\nA matrix: 2 × 6 of type dbl\n\n| <!--/--> | used | (Mb) | gc trigger | (Mb) | max used | (Mb) |\n|---|---|---|---|---|---|---|\n| Ncells |    3763143 |   201.0 |    7132265 |   381.0 |    5337958 |   285.1 |\n| Vcells | 2074031116 | 15823.7 | 4614243549 | 35203.9 | 4614179676 | 35203.4 |\n\n",
            "text/latex": "A matrix: 2 × 6 of type dbl\n\\begin{tabular}{r|llllll}\n  & used & (Mb) & gc trigger & (Mb) & max used & (Mb)\\\\\n\\hline\n\tNcells &    3763143 &   201.0 &    7132265 &   381.0 &    5337958 &   285.1\\\\\n\tVcells & 2074031116 & 15823.7 & 4614243549 & 35203.9 & 4614179676 & 35203.4\\\\\n\\end{tabular}\n",
            "text/plain": [
              "       used       (Mb)    gc trigger (Mb)    max used   (Mb)   \n",
              "Ncells    3763143   201.0    7132265   381.0    5337958   285.1\n",
              "Vcells 2074031116 15823.7 4614243549 35203.9 4614179676 35203.4"
            ]
          },
          "metadata": {}
        }
      ]
    },
    {
      "cell_type": "code",
      "execution_count": null,
      "metadata": {
        "id": "x2Q5P_acgSoR",
        "colab": {
          "base_uri": "https://localhost:8080/",
          "height": 520
        },
        "outputId": "47cf29c9-a480-44f5-8590-8d00a98ff689"
      },
      "outputs": [
        {
          "output_type": "stream",
          "name": "stderr",
          "text": [
            "\u001b[1m\u001b[22m\u001b[36m•\u001b[39m Checking Seurat object validity\n",
            "Warning message:\n",
            "“Key ‘rpcaumap_’ taken, using ‘qbpyj_’ instead”\n",
            "Warning message:\n",
            "“Adding a command log without an assay associated with it”\n",
            "Warning message:\n",
            "“Adding a command log without an assay associated with it”\n",
            "Warning message:\n",
            "“Adding a command log without an assay associated with it”\n",
            "Warning message:\n",
            "“Adding a command log without an assay associated with it”\n",
            "Warning message:\n",
            "“Adding a command log without an assay associated with it”\n",
            "Warning message:\n",
            "“Adding a command log without an assay associated with it”\n",
            "Warning message:\n",
            "“Adding a command log without an assay associated with it”\n",
            "\u001b[1m\u001b[22m\u001b[36m•\u001b[39m Extracting Data from \u001b[32mRNA\u001b[39m assay to transfer to anndata.\n",
            "\u001b[1m\u001b[22mThe following columns were removed as they contain identical values for all rows:\n",
            "\u001b[36mℹ\u001b[39m \u001b[32morig.ident\u001b[39m, \u001b[32mold.ident\u001b[39m, and \u001b[32mdoublet_info\u001b[39m\n",
            "\u001b[1m\u001b[22m\u001b[36m•\u001b[39m Creating anndata object.\n",
            "\u001b[1m\u001b[22m\u001b[36m•\u001b[39m Writing anndata file:\n",
            "  \u001b[34m\"/mnt/data/projects/sc_25/06_subclass/11_all_cell_add_meta/12-1_paga/12_subclustered_anndata.h5ad\"\u001b[39m\n"
          ]
        },
        {
          "output_type": "display_data",
          "data": {
            "text/plain": [
              "AnnData object with n_obs × n_vars = 111250 × 55771\n",
              "    obs: 'nCount_RNA', 'nFeature_RNA', 'Batch', 'percent.mt', 'percent.ribo', 'percent.hb', 'S.Score', 'G2M.Score', 'Phase', 'RNA_snn_res.0.8', 'seurat_clusters', 'pANN_0.25_0.08_228', 'pANN_0.25_0.12_230', 'pANN_0.25_0.18_464', 'pANN_0.25_0.22_813', 'pANN_0.25_0.26_822', 'pANN_0.25_0.3_577', 'pANN_0.25_0.24_485', 'pANN_0.25_0.005_532', 'pANN_0.25_0.15_535', 'pANN_0.25_0.23_459', 'pANN_0.25_0.27_588', 'res2.4.rpca.clust', 'class.clust', 'stage', 'class_id_annotation', 'class_id', 'class_annotation', 'subclass_annotation', 'cell_id', 'cluster_annotation'\n",
              "    var: 'names'\n",
              "    obsm: 'X_pca', 'X_integrated.jointpca', 'X_integrated.mnn', 'X_integrated.harmony', 'X_integrated.cca', 'X_integrated.rpca', 'X_mnn.umap', 'X_jointpca.umap', 'X_harmony.umap', 'X_rpca.umap', 'X_cca.umap', 'X_umap'\n",
              "    layers: 'counts_RNA'"
            ]
          },
          "metadata": {}
        }
      ],
      "source": [
        "as.anndata(x = seu_obj, file_path = \"/mnt/data/projects/sc_25/06_subclass/11_all_cell_add_meta/12-1_paga/\", file_name = \"12_subclustered_anndata.h5ad\")"
      ]
    },
    {
      "cell_type": "code",
      "source": [
        "gc()"
      ],
      "metadata": {
        "colab": {
          "base_uri": "https://localhost:8080/",
          "height": 129
        },
        "id": "ycv5ooNpqq8x",
        "outputId": "e0b22674-3c8d-4a51-c3fb-c0845acfb335"
      },
      "execution_count": null,
      "outputs": [
        {
          "output_type": "display_data",
          "data": {
            "text/html": [
              "<table class=\"dataframe\">\n",
              "<caption>A matrix: 2 × 6 of type dbl</caption>\n",
              "<thead>\n",
              "\t<tr><th></th><th scope=col>used</th><th scope=col>(Mb)</th><th scope=col>gc trigger</th><th scope=col>(Mb)</th><th scope=col>max used</th><th scope=col>(Mb)</th></tr>\n",
              "</thead>\n",
              "<tbody>\n",
              "\t<tr><th scope=row>Ncells</th><td>   3807355</td><td>  203.4</td><td>   7132265</td><td>  381.0</td><td>   7132265</td><td>  381.0</td></tr>\n",
              "\t<tr><th scope=row>Vcells</th><td>3225771424</td><td>24610.7</td><td>5904909983</td><td>45050.9</td><td>4920691653</td><td>37541.9</td></tr>\n",
              "</tbody>\n",
              "</table>\n"
            ],
            "text/markdown": "\nA matrix: 2 × 6 of type dbl\n\n| <!--/--> | used | (Mb) | gc trigger | (Mb) | max used | (Mb) |\n|---|---|---|---|---|---|---|\n| Ncells |    3807355 |   203.4 |    7132265 |   381.0 |    7132265 |   381.0 |\n| Vcells | 3225771424 | 24610.7 | 5904909983 | 45050.9 | 4920691653 | 37541.9 |\n\n",
            "text/latex": "A matrix: 2 × 6 of type dbl\n\\begin{tabular}{r|llllll}\n  & used & (Mb) & gc trigger & (Mb) & max used & (Mb)\\\\\n\\hline\n\tNcells &    3807355 &   203.4 &    7132265 &   381.0 &    7132265 &   381.0\\\\\n\tVcells & 3225771424 & 24610.7 & 5904909983 & 45050.9 & 4920691653 & 37541.9\\\\\n\\end{tabular}\n",
            "text/plain": [
              "       used       (Mb)    gc trigger (Mb)    max used   (Mb)   \n",
              "Ncells    3807355   203.4    7132265   381.0    7132265   381.0\n",
              "Vcells 3225771424 24610.7 5904909983 45050.9 4920691653 37541.9"
            ]
          },
          "metadata": {}
        }
      ]
    },
    {
      "cell_type": "code",
      "source": [],
      "metadata": {
        "id": "K3hTIME6tcex"
      },
      "execution_count": null,
      "outputs": []
    }
  ]
}